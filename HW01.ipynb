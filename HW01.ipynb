{
 "cells": [
  {
   "cell_type": "code",
   "execution_count": null,
   "id": "2cd1ec23",
   "metadata": {},
   "outputs": [],
   "source": [
    "#Pre-lecture HW"
   ]
  },
  {
   "cell_type": "code",
   "execution_count": 16,
   "id": "08312659",
   "metadata": {},
   "outputs": [
    {
     "name": "stdout",
     "output_type": "stream",
     "text": [
      "        Name  Height    Hobby\n",
      "0      Linda     166  Singing\n",
      "1    Charlie     175  Singing\n",
      "2  Katherine     155  Drawing\n",
      "3   Hermione     160  Reading\n"
     ]
    }
   ],
   "source": [
    "#Dataset\n",
    "import pandas as pd\n",
    "\n",
    "data = {\n",
    "    'Name': ['Linda', 'Charlie', 'Katherine', 'Hermione'],\n",
    "    'Height': [166, 175, 155, 160],\n",
    "    'Hobby': ['Singing', 'Singing', 'Drawing', 'Reading']\n",
    "}\n",
    "\n",
    "df = pd.DataFrame(data)\n",
    "print(df)"
   ]
  },
  {
   "cell_type": "code",
   "execution_count": 15,
   "id": "85ac6ca7",
   "metadata": {},
   "outputs": [
    {
     "name": "stdout",
     "output_type": "stream",
     "text": [
      "The DataFrame has 4 rows and 3 columns.\n"
     ]
    }
   ],
   "source": [
    "#Number of rows and columns\n",
    "num_rows, num_columns = df.shape\n",
    "\n",
    "print(f\"The DataFrame has {num_rows} rows and {num_columns} columns.\")"
   ]
  },
  {
   "cell_type": "code",
   "execution_count": null,
   "id": "184fc906",
   "metadata": {},
   "outputs": [],
   "source": [
    "#Definition for Observations:\n",
    "#In this DataFrame, observations are the records in this dataset. \n",
    "#One of the observations in the dataset is [Linda, 166, Singing]."
   ]
  },
  {
   "cell_type": "code",
   "execution_count": null,
   "id": "142ef3bf",
   "metadata": {},
   "outputs": [],
   "source": [
    "#Definition for Variables:\n",
    "#In this DataFrame, variables can vary and lead to get different sets of observations finally.\n",
    "#Variables in my DataFrame are: Name, Height and Hobby."
   ]
  },
  {
   "cell_type": "code",
   "execution_count": 9,
   "id": "57fc8ea0",
   "metadata": {},
   "outputs": [
    {
     "data": {
      "text/html": [
       "<div>\n",
       "<style scoped>\n",
       "    .dataframe tbody tr th:only-of-type {\n",
       "        vertical-align: middle;\n",
       "    }\n",
       "\n",
       "    .dataframe tbody tr th {\n",
       "        vertical-align: top;\n",
       "    }\n",
       "\n",
       "    .dataframe thead th {\n",
       "        text-align: right;\n",
       "    }\n",
       "</style>\n",
       "<table border=\"1\" class=\"dataframe\">\n",
       "  <thead>\n",
       "    <tr style=\"text-align: right;\">\n",
       "      <th></th>\n",
       "      <th>Name</th>\n",
       "      <th>Hobby</th>\n",
       "    </tr>\n",
       "  </thead>\n",
       "  <tbody>\n",
       "    <tr>\n",
       "      <th>count</th>\n",
       "      <td>4</td>\n",
       "      <td>4</td>\n",
       "    </tr>\n",
       "    <tr>\n",
       "      <th>unique</th>\n",
       "      <td>4</td>\n",
       "      <td>3</td>\n",
       "    </tr>\n",
       "    <tr>\n",
       "      <th>top</th>\n",
       "      <td>Linda</td>\n",
       "      <td>Singing</td>\n",
       "    </tr>\n",
       "    <tr>\n",
       "      <th>freq</th>\n",
       "      <td>1</td>\n",
       "      <td>2</td>\n",
       "    </tr>\n",
       "  </tbody>\n",
       "</table>\n",
       "</div>"
      ],
      "text/plain": [
       "         Name    Hobby\n",
       "count       4        4\n",
       "unique      4        3\n",
       "top     Linda  Singing\n",
       "freq        1        2"
      ]
     },
     "execution_count": 9,
     "metadata": {},
     "output_type": "execute_result"
    }
   ],
   "source": [
    "#Summary 1\n",
    "df.describe(include='object')"
   ]
  },
  {
   "cell_type": "code",
   "execution_count": 11,
   "id": "09ae719f",
   "metadata": {},
   "outputs": [
    {
     "data": {
      "text/plain": [
       "Name\n",
       "Linda        1\n",
       "Charlie      1\n",
       "Katherine    1\n",
       "Hermione     1\n",
       "Name: count, dtype: int64"
      ]
     },
     "execution_count": 11,
     "metadata": {},
     "output_type": "execute_result"
    }
   ],
   "source": [
    "#Summary 2\n",
    "df['Name'].value_counts()"
   ]
  },
  {
   "cell_type": "code",
   "execution_count": 13,
   "id": "09e19d2a",
   "metadata": {},
   "outputs": [
    {
     "data": {
      "text/plain": [
       "Hobby\n",
       "Singing    2\n",
       "Drawing    1\n",
       "Reading    1\n",
       "Name: count, dtype: int64"
      ]
     },
     "execution_count": 13,
     "metadata": {},
     "output_type": "execute_result"
    }
   ],
   "source": [
    "#Summary 2\n",
    "df['Hobby'].value_counts()"
   ]
  },
  {
   "cell_type": "code",
   "execution_count": 14,
   "id": "e192b2e2",
   "metadata": {},
   "outputs": [
    {
     "data": {
      "text/html": [
       "<div>\n",
       "<style scoped>\n",
       "    .dataframe tbody tr th:only-of-type {\n",
       "        vertical-align: middle;\n",
       "    }\n",
       "\n",
       "    .dataframe tbody tr th {\n",
       "        vertical-align: top;\n",
       "    }\n",
       "\n",
       "    .dataframe thead th {\n",
       "        text-align: right;\n",
       "    }\n",
       "</style>\n",
       "<table border=\"1\" class=\"dataframe\">\n",
       "  <thead>\n",
       "    <tr style=\"text-align: right;\">\n",
       "      <th></th>\n",
       "      <th>height</th>\n",
       "    </tr>\n",
       "  </thead>\n",
       "  <tbody>\n",
       "    <tr>\n",
       "      <th>count</th>\n",
       "      <td>4.000000</td>\n",
       "    </tr>\n",
       "    <tr>\n",
       "      <th>mean</th>\n",
       "      <td>164.000000</td>\n",
       "    </tr>\n",
       "    <tr>\n",
       "      <th>std</th>\n",
       "      <td>8.602325</td>\n",
       "    </tr>\n",
       "    <tr>\n",
       "      <th>min</th>\n",
       "      <td>155.000000</td>\n",
       "    </tr>\n",
       "    <tr>\n",
       "      <th>25%</th>\n",
       "      <td>158.750000</td>\n",
       "    </tr>\n",
       "    <tr>\n",
       "      <th>50%</th>\n",
       "      <td>163.000000</td>\n",
       "    </tr>\n",
       "    <tr>\n",
       "      <th>75%</th>\n",
       "      <td>168.250000</td>\n",
       "    </tr>\n",
       "    <tr>\n",
       "      <th>max</th>\n",
       "      <td>175.000000</td>\n",
       "    </tr>\n",
       "  </tbody>\n",
       "</table>\n",
       "</div>"
      ],
      "text/plain": [
       "           height\n",
       "count    4.000000\n",
       "mean   164.000000\n",
       "std      8.602325\n",
       "min    155.000000\n",
       "25%    158.750000\n",
       "50%    163.000000\n",
       "75%    168.250000\n",
       "max    175.000000"
      ]
     },
     "execution_count": 14,
     "metadata": {},
     "output_type": "execute_result"
    }
   ],
   "source": [
    "#Summary 3\n",
    "df.describe()"
   ]
  },
  {
   "cell_type": "code",
   "execution_count": null,
   "id": "01a94ae1",
   "metadata": {},
   "outputs": [],
   "source": [
    "#The difference between df.shape and df.describe()\n",
    "#df.shape gives the number of rows and columns of my dataset.\n",
    "#df.describe gives more details and analysis of distribution of the numeric data in my dataset, like mean and standard deviation."
   ]
  },
  {
   "cell_type": "code",
   "execution_count": null,
   "id": "3e15fb5a",
   "metadata": {},
   "outputs": [],
   "source": [
    "#The difference between attribute and method\n",
    "#attribute: always represents the properties or data of the dataset.\n",
    "#Examples: df.shape, df.columns, df.index.\n",
    "#method: always doing operations or calculations of data from the dataset.\n",
    "#Examples: df.head(), df.describe(), df.sort_values(by='Age')."
   ]
  },
  {
   "cell_type": "code",
   "execution_count": null,
   "id": "a90ce472",
   "metadata": {},
   "outputs": [],
   "source": [
    "#Post-lecture HW"
   ]
  },
  {
   "cell_type": "code",
   "execution_count": null,
   "id": "ccf04456",
   "metadata": {},
   "outputs": [],
   "source": [
    "#Definitions of each of the summary statistics in df.describe():\n",
    "#count: The number of values in a column and the values are all not empty (no value miss).\n",
    "#mean: The arithmetic average of the values in the column.(Take average)\n",
    "#standard Deviation(std): It represents the spread out of the values from the mean of the values. More spread out, more standard deviation.\n",
    "#min: The smallest value in the column.\n",
    "#25%: It represents the lower quartile of the data.\n",
    "#50%: It represents the median (the middle value of the column of the data) of the data.\n",
    "#75%: It represents the upper quartile of the data.\n",
    "#max: The largest value in the column."
   ]
  },
  {
   "cell_type": "code",
   "execution_count": 6,
   "id": "cbe152b5",
   "metadata": {},
   "outputs": [
    {
     "name": "stdout",
     "output_type": "stream",
     "text": [
      "        Name  height    Hobby\n",
      "0      Linda   166.0  Singing\n",
      "1    Charlie   175.0  Singing\n",
      "2  Katherine   155.0     None\n",
      "3   Hermione     NaN  Reading\n"
     ]
    }
   ],
   "source": [
    "#New dataset for Question 1\n",
    "import pandas as pd\n",
    "\n",
    "data = {\n",
    "    'Name': ['Linda', 'Charlie', 'Katherine', 'Hermione'],\n",
    "    'Height': [166, 175, 155, None],\n",
    "    'Hobby': ['Singing', 'Singing', 'None', 'Reading']\n",
    "}\n",
    "\n",
    "df = pd.DataFrame(data)\n",
    "print(df)"
   ]
  },
  {
   "cell_type": "code",
   "execution_count": 5,
   "id": "d0f732a7",
   "metadata": {},
   "outputs": [],
   "source": [
    "#df_cleaned = df.drop(columns=['height'])\n",
    "#Using df.dropna() might be peferred over using del df['col']\n",
    "#Reasons: To retain important columns with valuable data, but need to ensure the rows with missing values in critical columns are removed.\n",
    "#Why not use del df['col']: May eliminate the primary data which are needed for the analysis of height of people."
   ]
  },
  {
   "cell_type": "code",
   "execution_count": 19,
   "id": "e4ab2777",
   "metadata": {},
   "outputs": [],
   "source": [
    "#df_cleaned = df.drop(columns=['Height'])\n",
    "#Using del df['col'] might be preferred over using df.dropna().\n",
    "#Reasons: The column has too many missing values will be used frequently, so it can precisely remove columns that have excessive missing values without affecting other data.\n",
    "#Why not use df.dropna(): Rows with any missing values are removed. This might lead to losing too much data if multiple features have missing values."
   ]
  },
  {
   "cell_type": "code",
   "execution_count": null,
   "id": "b1b01437",
   "metadata": {},
   "outputs": [],
   "source": [
    "#Discuss why applying del df['col'] before df.dropna() when both are used together could be important.\n",
    "#1: Reduce the complexity of a large dataset as del df['col'] can remove irrelevant or excessive Column first.\n",
    "#2: Reduce the Computational Load and develop the efficiency to deal with a large dataset.(leading to faster execution of df.dropna())"
   ]
  },
  {
   "cell_type": "code",
   "execution_count": 7,
   "id": "f76faad2",
   "metadata": {},
   "outputs": [
    {
     "name": "stdout",
     "output_type": "stream",
     "text": [
      "        Name  Height     Hobby\n",
      "0      Linda   166.0   Singing\n",
      "1    Charlie     NaN   Singing\n",
      "2  Katherine     NaN       NaN\n",
      "3   Hermione     NaN   Reading\n",
      "4        NaN     NaN   Running\n",
      "5       Mary   165.0       NaN\n",
      "6        NaN     NaN  Swimming\n"
     ]
    }
   ],
   "source": [
    "#New dataset for Question 2\n",
    "import pandas as pd\n",
    "import numpy as np\n",
    "\n",
    "data = {\n",
    "    'Name': ['Linda', 'Charlie', 'Katherine', 'Hermione', np.nan, 'Mary', np.nan],\n",
    "    'Height': [166, np.nan, np.nan, np.nan, np.nan, 165, np.nan],\n",
    "    'Hobby': ['Singing', 'Singing', np.nan, 'Reading', 'Running', np.nan, 'Swimming']\n",
    "}\n",
    "\n",
    "df = pd.DataFrame(data)\n",
    "print(df)"
   ]
  },
  {
   "cell_type": "code",
   "execution_count": 8,
   "id": "e985cfb0",
   "metadata": {},
   "outputs": [
    {
     "name": "stdout",
     "output_type": "stream",
     "text": [
      "Index(['Name', 'Height', 'Hobby'], dtype='object')\n"
     ]
    }
   ],
   "source": [
    "print(df.columns)"
   ]
  },
  {
   "cell_type": "code",
   "execution_count": 9,
   "id": "078b50e9",
   "metadata": {},
   "outputs": [],
   "source": [
    "df = df.drop(columns=['Height'])\n",
    "\n",
    "df_cleaned = df.dropna()"
   ]
  },
  {
   "cell_type": "code",
   "execution_count": 10,
   "id": "238dc184",
   "metadata": {},
   "outputs": [
    {
     "name": "stdout",
     "output_type": "stream",
     "text": [
      "Index(['Name', 'Hobby'], dtype='object')\n"
     ]
    }
   ],
   "source": [
    "print(df.columns)"
   ]
  },
  {
   "cell_type": "code",
   "execution_count": null,
   "id": "9fea0806",
   "metadata": {},
   "outputs": [],
   "source": [
    "#Explaination: I use del df['col'] as the column for Height has almost no valuable data and it has many missing data, so remove this column directly is better."
   ]
  },
  {
   "cell_type": "code",
   "execution_count": 2,
   "id": "d66c81f6",
   "metadata": {},
   "outputs": [
    {
     "name": "stdout",
     "output_type": "stream",
     "text": [
      "        count  mean        std   min   25%   50%   75%   max\n",
      "col1                                                        \n",
      "female    3.0  33.0   6.244998  26.0  30.5  35.0  36.5  38.0\n",
      "male      3.0  37.0  16.093477  22.0  28.5  35.0  44.5  54.0\n"
     ]
    }
   ],
   "source": [
    "#Question 8\n",
    "import pandas as pd\n",
    "\n",
    "df=pd.DataFrame({\n",
    "    'col1': ['male', 'female', 'female', 'female', 'male', 'male'],\n",
    "    'col2': [22, 38, 26, 35, 35, 54]\n",
    "})\n",
    "\n",
    "result = df.groupby(\"col1\")[\"col2\"].describe()\n",
    "print(result)"
   ]
  },
  {
   "cell_type": "code",
   "execution_count": null,
   "id": "bf6bb075",
   "metadata": {},
   "outputs": [],
   "source": [
    "#Difference between the calculations in df.describe() and df.groupby(\"col1\")[\"col2\"].describe().\n",
    "#The count value from them captures different aspects of data.\n",
    "#For df.describe: Its count will not contain the missing value.\n",
    "#For df.groupby(\"col1\")[\"col2\"].describe(): Its count will contain the missing value."
   ]
  },
  {
   "cell_type": "code",
   "execution_count": null,
   "id": "38a51b92",
   "metadata": {},
   "outputs": [],
   "source": [
    "#A: Easier to check in chatGPT as it can just show me a code for an example and with the start at import pandas as pd and it will show me the error: NameError.\n",
    "#B: Easier to check in chatGPT as it can not only tell me the error, but also tell me how to avoid such errors next time like double check.\n",
    "#C: Easier to check in chatGPT as it can find out the undefined variables of the Dataframe and it tells me to rename the name of the variable which I type wrong.\n",
    "#D: Easier to check in chatGPT as it can check the SyntaxError and tells me the error is happened in the missing of parentheses.\n",
    "#E: Easier to check in chatGPT as it can give some relevant examples for mistyped function name and I can try these mistype example to test the error.\n",
    "#F: Easier to check in chatGPT as it can show me many other examples and I will find such error:KeyError, and it tells me to change to lowercase.\n",
    "#G: The error can be checked in chatGPT and it shows me the correct use of quotes around column name. "
   ]
  },
  {
   "cell_type": "code",
   "execution_count": null,
   "id": "2d36543f",
   "metadata": {},
   "outputs": [],
   "source": [
    "#Question 9\n",
    "#Yes"
   ]
  }
 ],
 "metadata": {
  "kernelspec": {
   "display_name": "Python 3 (ipykernel)",
   "language": "python",
   "name": "python3"
  },
  "language_info": {
   "codemirror_mode": {
    "name": "ipython",
    "version": 3
   },
   "file_extension": ".py",
   "mimetype": "text/x-python",
   "name": "python",
   "nbconvert_exporter": "python",
   "pygments_lexer": "ipython3",
   "version": "3.11.6"
  }
 },
 "nbformat": 4,
 "nbformat_minor": 5
}
